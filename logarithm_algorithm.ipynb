{
 "cells": [
  {
   "cell_type": "code",
   "execution_count": 1,
   "id": "2d533d44",
   "metadata": {},
   "outputs": [],
   "source": [
    "# Imports\n",
    "import numpy as np"
   ]
  },
  {
   "cell_type": "code",
   "execution_count": 2,
   "id": "ee2727b7",
   "metadata": {},
   "outputs": [],
   "source": [
    "def my_log(b, x):\n",
    "    \"\"\"An algorithm to compute log_b(x).\"\"\"\n",
    "    \n",
    "    if ((b < 0) | (x < 0)):\n",
    "        return \"undefined\"\n",
    "    \n",
    "    # This algorithm requires b < x. It can be shown\n",
    "    # that log_b(x) = log_(1/b)(1/x) and if b > x,\n",
    "    # then 1/b < 1/x\n",
    "    if (b < x):\n",
    "        b = 1/b\n",
    "        x = 1/x\n",
    "    \n",
    "    continued_fraction = []\n",
    "    for i in range(20):\n",
    "        n = 0\n",
    "        while (x < b):\n",
    "            b = b / x\n",
    "            n = n + 1\n",
    "        b, x = x, b\n",
    "        continued_fraction.append(n)\n",
    "    return continued_fraction"
   ]
  },
  {
   "cell_type": "code",
   "execution_count": 3,
   "id": "234cc292",
   "metadata": {},
   "outputs": [
    {
     "data": {
      "text/plain": [
       "[3, 3, 9, 2, 2, 4, 6, 2, 1, 1, 3, 1, 18, 1, 6, 1, 2, 1, 1, 5]"
      ]
     },
     "execution_count": 3,
     "metadata": {},
     "output_type": "execute_result"
    }
   ],
   "source": [
    "my_log(10, 2)"
   ]
  },
  {
   "cell_type": "code",
   "execution_count": 12,
   "id": "81a29bb6",
   "metadata": {},
   "outputs": [
    {
     "name": "stdout",
     "output_type": "stream",
     "text": [
      "1 0.2 0.8333333333333334\n",
      "1 0.8333333333333334 0.5454545454545454\n",
      "2 0.5454545454545454 0.39285714285714285\n",
      "1 0.39285714285714285 0.717948717948718\n",
      "6 0.717948717948718 0.14885496183206107\n",
      "1 0.14885496183206107 0.8704318936877076\n",
      "18 0.8704318936877076 0.05299295774647887\n",
      "1 0.05299295774647887 0.9496739675639525\n",
      "3 0.9496739675639525 0.25318545485332095\n",
      "1 0.25318545485332095 0.7979664910147277\n",
      "1 0.7979664910147277 0.5561838916339452\n",
      "2 0.5561838916339452 0.3912081612253598\n",
      "6 0.3912081612253598 0.1564649397694276\n",
      "4 0.1564649397694276 0.24058906173655184\n",
      "2 0.24058906173655184 0.44631120319089546\n",
      "2 0.44631120319089546 0.4087787353856001\n",
      "9 0.4087787353856001 0.10628371950538988\n",
      "3 0.10628371950538988 0.32192809488736235\n",
      "3 0.32192809488736235 0.3010299956639812\n",
      "\n",
      "0.3010299956639812 0.3010299956639812\n"
     ]
    }
   ],
   "source": [
    "a = my_log(10, 2)\n",
    "num = 1 / a[-1]\n",
    "for i in range(2, len(a) + 1):\n",
    "    print(a[-i], num, 1 / (a[-i] + num))\n",
    "    num = 1 / (a[-i] + num)\n",
    "print()\n",
    "print(num, np.log10(2))"
   ]
  },
  {
   "cell_type": "code",
   "execution_count": null,
   "id": "3e9637e5",
   "metadata": {},
   "outputs": [],
   "source": []
  }
 ],
 "metadata": {
  "kernelspec": {
   "display_name": "Python 3 (ipykernel)",
   "language": "python",
   "name": "python3"
  },
  "language_info": {
   "codemirror_mode": {
    "name": "ipython",
    "version": 3
   },
   "file_extension": ".py",
   "mimetype": "text/x-python",
   "name": "python",
   "nbconvert_exporter": "python",
   "pygments_lexer": "ipython3",
   "version": "3.9.13"
  }
 },
 "nbformat": 4,
 "nbformat_minor": 5
}
