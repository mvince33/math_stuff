{
 "cells": [
  {
   "cell_type": "code",
   "execution_count": 1,
   "id": "2d533d44",
   "metadata": {},
   "outputs": [],
   "source": [
    "# Imports\n",
    "import numpy as np"
   ]
  },
  {
   "cell_type": "code",
   "execution_count": 2,
   "id": "ee2727b7",
   "metadata": {},
   "outputs": [],
   "source": [
    "def my_log(b, x):\n",
    "    \"\"\"An algorithm to compute log_b(x).\"\"\"\n",
    "    \n",
    "    if ((b < 0) | (x < 0)):\n",
    "        return \"undefined\"\n",
    "    \n",
    "    # This algorithm requires b < x. It can be shown\n",
    "    # that log_b(x) = log_(1/b)(1/x) and if b > x,\n",
    "    # then 1/b < 1/x\n",
    "    if (b < x):\n",
    "        b = 1/b\n",
    "        x = 1/x\n",
    "    \n",
    "    continued_fraction = []\n",
    "    for i in range(20):\n",
    "        n = 0\n",
    "        while (x < b):\n",
    "            b = b / x\n",
    "            n = n + 1\n",
    "        b, x = x, b\n",
    "        continued_fraction.append(n)\n",
    "    return continued_fraction"
   ]
  },
  {
   "cell_type": "code",
   "execution_count": 3,
   "id": "234cc292",
   "metadata": {},
   "outputs": [
    {
     "data": {
      "text/plain": [
       "[3, 3, 9, 2, 2, 4, 6, 2, 1, 1, 3, 1, 18, 1, 6, 1, 2, 1, 1, 5]"
      ]
     },
     "execution_count": 3,
     "metadata": {},
     "output_type": "execute_result"
    }
   ],
   "source": [
    "my_log(10, 2)"
   ]
  },
  {
   "cell_type": "code",
   "execution_count": 4,
   "id": "81a29bb6",
   "metadata": {},
   "outputs": [
    {
     "name": "stdout",
     "output_type": "stream",
     "text": [
      "1\n",
      "1\n",
      "2\n",
      "1\n",
      "6\n",
      "1\n",
      "18\n",
      "1\n",
      "3\n",
      "1\n",
      "1\n",
      "2\n",
      "6\n",
      "4\n",
      "2\n",
      "2\n",
      "9\n",
      "3\n",
      "0.32192809488736246 0.3010299956639812\n"
     ]
    }
   ],
   "source": [
    "a = my_log(10, 2)\n",
    "num = a[-1]\n",
    "for i in range(2, len(a)):\n",
    "    print(a[-i])\n",
    "    num = 1 / (a[-i] + num)\n",
    "print(num, np.log10(2))"
   ]
  },
  {
   "cell_type": "code",
   "execution_count": null,
   "id": "3e9637e5",
   "metadata": {},
   "outputs": [],
   "source": []
  }
 ],
 "metadata": {
  "kernelspec": {
   "display_name": "Python 3 (ipykernel)",
   "language": "python",
   "name": "python3"
  },
  "language_info": {
   "codemirror_mode": {
    "name": "ipython",
    "version": 3
   },
   "file_extension": ".py",
   "mimetype": "text/x-python",
   "name": "python",
   "nbconvert_exporter": "python",
   "pygments_lexer": "ipython3",
   "version": "3.9.13"
  }
 },
 "nbformat": 4,
 "nbformat_minor": 5
}
