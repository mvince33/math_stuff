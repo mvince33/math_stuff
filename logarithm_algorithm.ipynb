{
 "cells": [
  {
   "cell_type": "code",
   "execution_count": 1,
   "id": "2d533d44",
   "metadata": {},
   "outputs": [],
   "source": [
    "# Imports\n",
    "import numpy as np\n",
    "import numpy.random"
   ]
  },
  {
   "cell_type": "code",
   "execution_count": 2,
   "id": "ee2727b7",
   "metadata": {},
   "outputs": [],
   "source": [
    "def my_log(b, x):\n",
    "    \"\"\"An algorithm to compute log_b(x).\"\"\"\n",
    "    \n",
    "    if ((b < 0) | (x < 0)):\n",
    "        return \"undefined\"\n",
    "    \n",
    "    # This algorithm requires b > x. It can be shown\n",
    "    # that log_b(x) = log_(1/b)(1/x) and if b > x,\n",
    "    # then 1/b < 1/x\n",
    "    if (b < x):\n",
    "        b = 1/b\n",
    "        x = 1/x\n",
    " \n",
    "    continued_fraction = []\n",
    "    for i in range(17):\n",
    "        n = 0\n",
    "        while (x < b):\n",
    "            b = b / x\n",
    "            n = n + 1\n",
    "        b, x = x, b\n",
    "        continued_fraction.append(n)\n",
    "    return continued_fraction"
   ]
  },
  {
   "cell_type": "markdown",
   "id": "d54a31c2",
   "metadata": {},
   "source": [
    "> Replacing b and x with their reciprocals didn't work. The mathematical principle is true, but the algorithm needs to be adjusted to make this work."
   ]
  },
  {
   "cell_type": "code",
   "execution_count": 3,
   "id": "1e1a26c0",
   "metadata": {},
   "outputs": [],
   "source": [
    "def eval_cf(cf):\n",
    "    \"\"\"Evaluate a continued fraction given a list of the \n",
    "    denominators of the continuned fraction.\"\"\"\n",
    "    \n",
    "    num = 1 / cf[-1]\n",
    "    for i in range(2, len(cf) + 1):\n",
    "        num = 1 / (cf[-i] + num)\n",
    "    return num"
   ]
  },
  {
   "cell_type": "code",
   "execution_count": 4,
   "id": "470bbf7f",
   "metadata": {},
   "outputs": [],
   "source": [
    "def eval_cf2(cf):\n",
    "    \"\"\"Evaluate a continued fraction using convergents\"\"\"\n",
    "    \n",
    "    p0 = cf[0]\n",
    "    q0 = 1\n",
    "    q1 = cf[0]*cf[1] + 1\n",
    "    p1 = cf[1]\n",
    "    for i in range(2,len(cf)):\n",
    "        p = cf[i] * p1 + p0\n",
    "        q = cf[i] * q1 + q0\n",
    "        p0 = p1\n",
    "        p1 = p\n",
    "        q0 = q1\n",
    "        q1 = q\n",
    "    return p / q"
   ]
  },
  {
   "cell_type": "code",
   "execution_count": 5,
   "id": "0438e48e",
   "metadata": {},
   "outputs": [],
   "source": [
    "def rel_err(actual, estimated):\n",
    "    return np.abs((actual - estimated) / actual)"
   ]
  },
  {
   "cell_type": "code",
   "execution_count": 6,
   "id": "234cc292",
   "metadata": {},
   "outputs": [
    {
     "data": {
      "text/plain": [
       "[2, 10, 2, 2, 1, 13, 1, 7, 18, 2, 2, 1, 2, 3, 4, 1, 1]"
      ]
     },
     "execution_count": 6,
     "metadata": {},
     "output_type": "execute_result"
    }
   ],
   "source": [
    "my_log(10, 3)"
   ]
  },
  {
   "cell_type": "code",
   "execution_count": 7,
   "id": "81a29bb6",
   "metadata": {},
   "outputs": [
    {
     "name": "stdout",
     "output_type": "stream",
     "text": [
      "1 0.5 0.6666666666666666\n",
      "6 0.6666666666666666 0.15\n",
      "1 0.15 0.8695652173913044\n",
      "18 0.8695652173913044 0.052995391705069124\n",
      "1 0.052995391705069124 0.949671772428884\n",
      "3 0.949671772428884 0.253185595567867\n",
      "1 0.253185595567867 0.7979664014146773\n",
      "1 0.7979664014146773 0.5561839193508729\n",
      "2 0.5561839193508729 0.39120815698345524\n",
      "6 0.39120815698345524 0.15646493987327484\n",
      "4 0.15646493987327484 0.24058906173054082\n",
      "2 0.24058906173054082 0.44631120319209283\n",
      "2 0.44631120319209283 0.40877873538539994\n",
      "9 0.40877873538539994 0.10628371950539213\n",
      "3 0.10628371950539213 0.3219280948873621\n",
      "3 0.3219280948873621 0.3010299956639812\n",
      "\n",
      "0.3010299956639812 0.3010299956639812\n"
     ]
    }
   ],
   "source": [
    "a = my_log(10, 2)\n",
    "num = 1 / a[-1]\n",
    "for i in range(2, len(a) + 1):\n",
    "    print(a[-i], num, 1 / (a[-i] + num))\n",
    "    num = 1 / (a[-i] + num)\n",
    "print()\n",
    "print(num, np.log10(2))"
   ]
  },
  {
   "cell_type": "code",
   "execution_count": 8,
   "id": "3e9637e5",
   "metadata": {},
   "outputs": [
    {
     "name": "stdout",
     "output_type": "stream",
     "text": [
      "0.983610405761977 0.9836104057619769 1.1287223255482908e-16\n",
      "0.9836104057619769\n"
     ]
    }
   ],
   "source": [
    "a = numpy.random.randint(100000000)\n",
    "b = numpy.random.randint(100000000)\n",
    "if b > a: a, b = b, a\n",
    "my_val = eval_cf(my_log(a, b))\n",
    "val = np.log10(b) / np.log10(a)\n",
    "print(my_val, val, rel_err(val, my_val))\n",
    "print(eval_cf2(my_log(a, b)))"
   ]
  },
  {
   "cell_type": "code",
   "execution_count": 9,
   "id": "8d0e74ec",
   "metadata": {},
   "outputs": [
    {
     "name": "stdout",
     "output_type": "stream",
     "text": [
      "2.0\n",
      "0.3283948136257749 0.3010299956639812\n",
      "0.3010299956639812\n"
     ]
    }
   ],
   "source": [
    "print(eval_cf2(my_log(8, 2)))\n",
    "print(eval_cf2(my_log(10, 2)), np.log10(2))\n",
    "print(eval_cf(my_log(10, 2)))"
   ]
  },
  {
   "cell_type": "markdown",
   "id": "5ec3df37",
   "metadata": {},
   "source": [
    "> Something's going on with the eval_cf2 function. Need to work on this."
   ]
  },
  {
   "cell_type": "code",
   "execution_count": null,
   "id": "e6b830fe",
   "metadata": {},
   "outputs": [],
   "source": []
  }
 ],
 "metadata": {
  "kernelspec": {
   "display_name": "Python 3 (ipykernel)",
   "language": "python",
   "name": "python3"
  },
  "language_info": {
   "codemirror_mode": {
    "name": "ipython",
    "version": 3
   },
   "file_extension": ".py",
   "mimetype": "text/x-python",
   "name": "python",
   "nbconvert_exporter": "python",
   "pygments_lexer": "ipython3",
   "version": "3.9.13"
  }
 },
 "nbformat": 4,
 "nbformat_minor": 5
}
