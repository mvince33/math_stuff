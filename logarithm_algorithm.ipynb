{
 "cells": [
  {
   "cell_type": "code",
   "execution_count": 1,
   "id": "2d533d44",
   "metadata": {},
   "outputs": [],
   "source": [
    "# Imports\n",
    "import numpy as np"
   ]
  },
  {
   "cell_type": "code",
   "execution_count": 15,
   "id": "ee2727b7",
   "metadata": {},
   "outputs": [],
   "source": [
    "def my_log(b, x):\n",
    "    \"\"\"An algorithm to compute log_b(x).\"\"\"\n",
    "    \n",
    "    if ((b < 0) | (x < 0)):\n",
    "        return \"undefined\"\n",
    "    \n",
    "    # This algorithm requires b < x. It can be shown\n",
    "    # that log_b(x) = log_(1/b)(1/x) and if b > x,\n",
    "    # then 1/b < 1/x\n",
    "    if (b < x):\n",
    "        b = 1/b\n",
    "        x = 1/x\n",
    "    \n",
    "    continued_fraction = []\n",
    "    for i in range(20):\n",
    "        n = 0\n",
    "        while (x < b):\n",
    "            b = b / x\n",
    "            n = n + 1\n",
    "        b, x = x, b\n",
    "        continued_fraction.append(n)\n",
    "        print(n, b, x)\n",
    "    return continued_fraction"
   ]
  },
  {
   "cell_type": "code",
   "execution_count": 16,
   "id": "234cc292",
   "metadata": {},
   "outputs": [
    {
     "name": "stdout",
     "output_type": "stream",
     "text": [
      "3 2 1.25\n",
      "3 1.25 1.024\n",
      "9 1.024 1.009741958682895\n",
      "2 1.009741958682895 1.004336277661869\n",
      "2 1.004336277661869 1.0010415475915504\n",
      "4 1.0010415475915504 1.000162894137616\n",
      "6 1.000162894137616 1.0000637223565385\n",
      "2 1.0000637223565385 1.0000354408471077\n",
      "1 1.0000354408471077 1.0000282805071457\n",
      "1 1.0000282805071457 1.0000071601374698\n",
      "3 1.0000071601374698 1.0000067997948696\n",
      "1 1.0000067997948696 1.00000036034015\n",
      "18 1.00000036034015 1.00000031365027\n",
      "1 1.00000031365027 1.0000000466898653\n",
      "6 1.0000000466898653 1.0000000335110362\n",
      "1 1.0000000335110362 1.0000000131788287\n",
      "2 1.0000000131788287 1.0000000071533786\n",
      "1 1.0000000071533786 1.0000000060254501\n",
      "1 1.0000000060254501 1.0000000011279284\n",
      "5 1.0000000011279284 1.000000000385808\n"
     ]
    },
    {
     "data": {
      "text/plain": [
       "[3, 3, 9, 2, 2, 4, 6, 2, 1, 1, 3, 1, 18, 1, 6, 1, 2, 1, 1, 5]"
      ]
     },
     "execution_count": 16,
     "metadata": {},
     "output_type": "execute_result"
    }
   ],
   "source": [
    "my_log(10, 2)"
   ]
  },
  {
   "cell_type": "code",
   "execution_count": 17,
   "id": "44cd88aa",
   "metadata": {},
   "outputs": [
    {
     "name": "stdout",
     "output_type": "stream",
     "text": [
      "3 2 1.25\n",
      "3 1.25 1.024\n",
      "9 1.024 1.009741958682895\n",
      "2 1.009741958682895 1.004336277661869\n",
      "2 1.004336277661869 1.0010415475915504\n",
      "4 1.0010415475915504 1.000162894137616\n",
      "6 1.000162894137616 1.0000637223565385\n",
      "2 1.0000637223565385 1.0000354408471077\n",
      "1 1.0000354408471077 1.0000282805071457\n",
      "1 1.0000282805071457 1.0000071601374698\n",
      "3 1.0000071601374698 1.0000067997948696\n",
      "1 1.0000067997948696 1.00000036034015\n",
      "18 1.00000036034015 1.00000031365027\n",
      "1 1.00000031365027 1.0000000466898653\n",
      "6 1.0000000466898653 1.0000000335110362\n",
      "1 1.0000000335110362 1.0000000131788287\n",
      "2 1.0000000131788287 1.0000000071533786\n",
      "1 1.0000000071533786 1.0000000060254501\n",
      "1 1.0000000060254501 1.0000000011279284\n",
      "5 1.0000000011279284 1.000000000385808\n"
     ]
    }
   ],
   "source": [
    "a = my_log(10, 2)"
   ]
  },
  {
   "cell_type": "code",
   "execution_count": null,
   "id": "3e9637e5",
   "metadata": {},
   "outputs": [],
   "source": []
  }
 ],
 "metadata": {
  "kernelspec": {
   "display_name": "Python 3 (ipykernel)",
   "language": "python",
   "name": "python3"
  },
  "language_info": {
   "codemirror_mode": {
    "name": "ipython",
    "version": 3
   },
   "file_extension": ".py",
   "mimetype": "text/x-python",
   "name": "python",
   "nbconvert_exporter": "python",
   "pygments_lexer": "ipython3",
   "version": "3.9.13"
  }
 },
 "nbformat": 4,
 "nbformat_minor": 5
}
